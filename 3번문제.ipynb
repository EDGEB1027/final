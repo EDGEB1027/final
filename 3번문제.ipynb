{
 "cells": [
  {
   "cell_type": "markdown",
   "id": "ae6c9f2c",
   "metadata": {},
   "source": [
    "### 다음의 코드에서는 ttest_ind 함수를 통해 두 야구팀의 연봉 평균을 t-test로 검정하는 코드를 작성하였음."
   ]
  },
  {
   "cell_type": "code",
   "execution_count": 16,
   "id": "344375f0",
   "metadata": {},
   "outputs": [],
   "source": [
    "import pandas as pd\n",
    "import numpy as np\n",
    "from scipy import stats\n",
    "\n",
    "# read_csv 함수로 데이터를 Dataframe 형태로 불러오기\n",
    "picher_file_path = '../data/picher_stats_2017.csv'\n",
    "picher = pd.read_csv(picher_file_path)"
   ]
  },
  {
   "cell_type": "code",
   "execution_count": 17,
   "id": "824fad25",
   "metadata": {},
   "outputs": [],
   "source": [
    "# 팀명이 'SK'거나 '한화'인 야구팀 목록만 뽑기\n",
    "SK = picher.loc[picher['팀명'] == 'SK']\n",
    "Hanhwa = picher.loc[picher['팀명'] == '한화']"
   ]
  },
  {
   "cell_type": "code",
   "execution_count": 18,
   "id": "46c829e6",
   "metadata": {},
   "outputs": [
    {
     "name": "stdout",
     "output_type": "stream",
     "text": [
      "The t-statistic and p-value assuming equal variances is -1.087 and 0.284.\n",
      "The t-statistic and p-value not assuming equal variances is -1.109 and 0.275\n"
     ]
    }
   ],
   "source": [
    "# SK와 한화의 2017년 연봉 평균을 t-test를 통해 검정하기\n",
    "from scipy.stats import ttest_ind\n",
    "tTestResult = stats.ttest_ind(SK['연봉(2017)'], Hanhwa['연봉(2017)'])\n",
    "tTestResultDiffVar = stats.ttest_ind(SK['연봉(2017)'], Hanhwa['연봉(2017)'], equal_var = False)\n",
    "\n",
    "print(\"The t-statistic and p-value assuming equal variances is %.3f and %.3f.\" % tTestResult)\n",
    "print(\"The t-statistic and p-value not assuming equal variances is %.3f and %.3f\" % tTestResultDiffVar)"
   ]
  },
  {
   "cell_type": "markdown",
   "id": "e68a2fa4",
   "metadata": {},
   "source": [
    "#### 분산이 같은 경우와 같지 않은 경우 모두 p-value가 높게 나왔으므로 두 팀의 평균 연봉은 유의미한 차이가 있다고 볼 수 없다."
   ]
  }
 ],
 "metadata": {
  "kernelspec": {
   "display_name": "Python 3 (ipykernel)",
   "language": "python",
   "name": "python3"
  },
  "language_info": {
   "codemirror_mode": {
    "name": "ipython",
    "version": 3
   },
   "file_extension": ".py",
   "mimetype": "text/x-python",
   "name": "python",
   "nbconvert_exporter": "python",
   "pygments_lexer": "ipython3",
   "version": "3.8.16"
  }
 },
 "nbformat": 4,
 "nbformat_minor": 5
}
