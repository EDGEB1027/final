{
 "cells": [
  {
   "cell_type": "markdown",
   "id": "e06832af",
   "metadata": {},
   "source": [
    "### 다음의 코드에서는 groupby 함수를 통해 그룹별 총 판매액수 상위 10개의 품목을 나열하는 코드를 작성하였음."
   ]
  },
  {
   "cell_type": "code",
   "execution_count": 1,
   "id": "a9f70ecb",
   "metadata": {},
   "outputs": [],
   "source": [
    "import pandas as pd\n",
    "import numpy as np\n",
    "\n",
    "# read_csv 함수로 데이터를 Dataframe 형태로 불러오기\n",
    "file_path = '../data/chipotle.tsv'\n",
    "chipo = pd.read_csv(file_path, sep = '\\t')"
   ]
  },
  {
   "cell_type": "code",
   "execution_count": 2,
   "id": "5005e2ab",
   "metadata": {},
   "outputs": [],
   "source": [
    "# chipo의 'item_price'항목을 덧셈을 위해 '$'를 빼고 실수 형태로 바꾸기\n",
    "chipo['item_price'] = chipo['item_price'].replace('[\\$,]', '', regex=True).astype(float)\n",
    "\n",
    "# chipo의 'item_name'이 같은 그룹을 묶어서 'item_price'를 더해 총판매액수 구하기\n",
    "item_sales = chipo.groupby('item_name')['item_price'].sum()"
   ]
  },
  {
   "cell_type": "code",
   "execution_count": 3,
   "id": "88a35362",
   "metadata": {},
   "outputs": [
    {
     "name": "stdout",
     "output_type": "stream",
     "text": [
      "item_name\n",
      "Chicken Bowl           7342.73\n",
      "Chicken Burrito        5575.82\n",
      "Steak Burrito          3851.43\n",
      "Steak Bowl             2260.19\n",
      "Chips and Guacamole    2201.04\n",
      "Chicken Salad Bowl     1228.75\n",
      "Chicken Soft Tacos     1108.09\n",
      "Veggie Burrito          934.77\n",
      "Barbacoa Burrito        894.75\n",
      "Veggie Bowl             867.99\n",
      "Name: item_price, dtype: float64\n"
     ]
    }
   ],
   "source": [
    "# 구해진 총 판매액수 목록을 큰 순서대로 나열하기\n",
    "sorted_sales = item_sales.sort_values(ascending = False)\n",
    "\n",
    "# 총 판매액수 순위 중 앞 10개를 가져오기\n",
    "top_10_sales = sorted_sales.head(10)\n",
    "\n",
    "print(top_10_sales)"
   ]
  }
 ],
 "metadata": {
  "kernelspec": {
   "display_name": "Python 3 (ipykernel)",
   "language": "python",
   "name": "python3"
  },
  "language_info": {
   "codemirror_mode": {
    "name": "ipython",
    "version": 3
   },
   "file_extension": ".py",
   "mimetype": "text/x-python",
   "name": "python",
   "nbconvert_exporter": "python",
   "pygments_lexer": "ipython3",
   "version": "3.8.16"
  }
 },
 "nbformat": 4,
 "nbformat_minor": 5
}
