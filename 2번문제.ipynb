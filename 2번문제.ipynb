{
 "cells": [
  {
   "cell_type": "markdown",
   "id": "d4ce53b0",
   "metadata": {},
   "source": [
    "### 다음의 코드에서는 corr 함수를 통해 유럽 국가들의 맥주와 와인의 피어슨 상관값을 구하는 코드를 작성하였음."
   ]
  },
  {
   "cell_type": "code",
   "execution_count": 4,
   "id": "e521d055",
   "metadata": {},
   "outputs": [],
   "source": [
    "import pandas as pd\n",
    "import numpy as np\n",
    "import matplotlib.pyplot as plt\n",
    "\n",
    "# read_csv 함수로 데이터를 Dataframe 형태로 불러오기\n",
    "file_path = '../data/drinks.csv'\n",
    "drinks = pd.read_csv(file_path) "
   ]
  },
  {
   "cell_type": "code",
   "execution_count": 5,
   "id": "6d0f8a76",
   "metadata": {},
   "outputs": [],
   "source": [
    "# drinks에서 대륙이 유럽인 국가 목록만 가져오기\n",
    "european_df = drinks[drinks['continent'] == 'EU']\n",
    "\n",
    "# 유럽 국가들 중 맥주와 와인값만 가져오기\n",
    "beer_wine_df = european_df[['beer_servings', 'wine_servings']]"
   ]
  },
  {
   "cell_type": "code",
   "execution_count": 6,
   "id": "7919b0c7",
   "metadata": {},
   "outputs": [
    {
     "name": "stdout",
     "output_type": "stream",
     "text": [
      "               beer_servings  wine_servings\n",
      "beer_servings       1.000000       0.297774\n",
      "wine_servings       0.297774       1.000000\n"
     ]
    }
   ],
   "source": [
    "# 맥주와 와인값의 피어슨 상관값 구하기\n",
    "corr = beer_wine_df.corr(method = 'pearson')\n",
    "\n",
    "print(corr)"
   ]
  }
 ],
 "metadata": {
  "kernelspec": {
   "display_name": "Python 3 (ipykernel)",
   "language": "python",
   "name": "python3"
  },
  "language_info": {
   "codemirror_mode": {
    "name": "ipython",
    "version": 3
   },
   "file_extension": ".py",
   "mimetype": "text/x-python",
   "name": "python",
   "nbconvert_exporter": "python",
   "pygments_lexer": "ipython3",
   "version": "3.8.16"
  }
 },
 "nbformat": 4,
 "nbformat_minor": 5
}
